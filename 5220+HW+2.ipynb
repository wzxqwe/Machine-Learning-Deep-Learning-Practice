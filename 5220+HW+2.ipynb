{
 "cells": [
  {
   "cell_type": "code",
   "execution_count": 1,
   "metadata": {},
   "outputs": [
    {
     "name": "stderr",
     "output_type": "stream",
     "text": [
      "C:\\ProgramData\\Anaconda3\\lib\\site-packages\\statsmodels\\compat\\pandas.py:56: FutureWarning: The pandas.core.datetools module is deprecated and will be removed in a future version. Please use the pandas.tseries module instead.\n",
      "  from pandas.core import datetools\n"
     ]
    }
   ],
   "source": [
    "import pandas as pd\n",
    "import numpy as np\n",
    "from numpy.linalg import inv\n",
    "import math\n",
    "import statsmodels.api as sm\n",
    "import random\n",
    "import scipy.io as sio\n",
    "import h5py \n",
    "import datetime\n",
    "import pylab\n",
    "from sklearn import preprocessing\n",
    "from sklearn.preprocessing import MinMaxScaler\n",
    "from sklearn.model_selection import KFold\n",
    "%matplotlib inline "
   ]
  },
  {
   "cell_type": "code",
   "execution_count": 2,
   "metadata": {
    "collapsed": true
   },
   "outputs": [],
   "source": [
    "#part A\n",
    "\n",
    "#close form solution\n",
    "def get_close_form(data):\n",
    "    ''' theta=(XtX)^-1XtY\n",
    "    '''\n",
    "    x=data[:,0:-1]\n",
    "    y=data[:,-1]\n",
    "    sol=inv(x.transpose().dot(x)).dot(x.transpose()).dot(y)\n",
    "    return sol\n",
    "\n",
    "# (b) stochatic mini-batch Gradient Descent\n",
    "def get_sgd_form(data,m,max_iter,learning_rate,tolerance):\n",
    "    '''use stochastic gradiant descent, batch size m, set max_iteration, learning rate and tolerance respectively\n",
    "    '''\n",
    "    #for data size n*p\n",
    "    x=data[:,0:-1]\n",
    "    y=data[:,-1]\n",
    "    (a,b)=data.shape\n",
    "    #set initial theta to be 0 vector\n",
    "    init_sol=np.full(b-1,0)\n",
    "    sol=[init_sol]\n",
    "    k=0\n",
    "    dist=[0]\n",
    "    error=tolerance\n",
    "    while True:\n",
    "        ro=learning_rate/(0.0001*k+1)\n",
    "        sample_index=random.sample(range(a),m)\n",
    "        x_sub=x[sample_index,:]\n",
    "        y_sub=y[sample_index]\n",
    "        #dj/dtheta=2xt(xtheta-y) iter step\n",
    "        sol.append(sol[k]-2*ro*((x_sub.transpose()).dot(x_sub.dot(sol[k])-y_sub))/m)\n",
    "        k+=1\n",
    "        dist.append(np.linalg.norm((sol[k]-sol[k-1])))\n",
    "        #check convergence\n",
    "        if  np.linalg.norm(2*((x_sub.transpose()).dot(x_sub.dot(sol[k])-y_sub))/m) <error or k> max_iter:\n",
    "\n",
    "\n",
    "\n",
    "            print(\"iterations taken is:\",k,\"last step move is\", dist[k])\n",
    "            pylab.plot(range(len(sol)), dist)\n",
    "            pylab.show()\n",
    "            return sol[k]\n",
    "        #else:\n",
    "           # print(k,dist[k])\n",
    " \n",
    " \n",
    "def evaluate_error(theta,test_data):\n",
    "    '''elavuate mean squared error by theta, testx and testy\n",
    "    imput is parameter and df[x,y]\n",
    "    '''\n",
    "    (a,b)=test_data.shape\n",
    "    x=test_data[:, 0:-1]\n",
    "    y=test_data[:,-1]\n",
    "    error_list=[]\n",
    "    for i in range(a):\n",
    "        predict=theta.dot(x[i,:])\n",
    "        error=pow((predict-y[i]),2)\n",
    "        error_list.append(error)\n",
    "    mse=np.sum(error)/a\n",
    "    return mse            \n",
    "        \n",
    "\n"
   ]
  },
  {
   "cell_type": "code",
   "execution_count": 3,
   "metadata": {
    "collapsed": true
   },
   "outputs": [],
   "source": [
    "#Part B\n",
    "#read data\n",
    "\n",
    "mat_1 = sio.loadmat('dataset1.mat', squeeze_me=True)"
   ]
  },
  {
   "cell_type": "code",
   "execution_count": 4,
   "metadata": {
    "collapsed": true
   },
   "outputs": [],
   "source": [
    "X_trn=mat_1[\"X_trn\"]\n",
    "X_tst=mat_1[\"X_tst\"]\n",
    "Y_trn=mat_1[\"Y_trn\"]\n",
    "Y_tst=mat_1[\"Y_tst\"]"
   ]
  },
  {
   "cell_type": "code",
   "execution_count": 5,
   "metadata": {
    "collapsed": true
   },
   "outputs": [],
   "source": [
    "# N=[2,3,5]\n",
    "#for n=2\n",
    "#create dataset=X,Y where X is 120*(n+1); Y is 120*1\n",
    "def form_data(x,y,n):\n",
    "    '''\n",
    "    create input data matrix which has column: x^0,x^1,...x^n,y\n",
    "    '''\n",
    "    a=len(y)\n",
    "    data=np.full(a,1)\n",
    "    for i in range(n):\n",
    "        arr=pow(x,i+1)\n",
    "        data=np.column_stack((data,arr))\n",
    "    data=np.column_stack((data,y))\n",
    "    return data"
   ]
  },
  {
   "cell_type": "code",
   "execution_count": 6,
   "metadata": {
    "collapsed": true
   },
   "outputs": [],
   "source": [
    "# transfer x to phi(x) ;output data is in the form[x^0,x^1,...x^n,y]\n",
    "train_2=form_data(X_trn,Y_trn,2)\n",
    "train_3=form_data(X_trn,Y_trn,3)\n",
    "train_5=form_data(X_trn,Y_trn,5)\n",
    "test_2=form_data(X_tst,Y_tst,2)\n",
    "test_3=form_data(X_tst,Y_tst,3)\n",
    "test_5=form_data(X_tst,Y_tst,5)"
   ]
  },
  {
   "cell_type": "code",
   "execution_count": 7,
   "metadata": {
    "collapsed": true
   },
   "outputs": [],
   "source": [
    "## normalize train data so it's easier to converge( avoid overflow say, for xi^5 when xi is small)\n",
    "# use same normalizing scale to normalize test data, this ensure our mse is evaluated correctly\n",
    "def normalize_data(train,test):\n",
    "    train_scaled = preprocessing.minmax_scale(train,(1,2))\n",
    "    scaler = preprocessing.MinMaxScaler(feature_range=(1, 2), copy=True).fit(train)\n",
    "    test_scaled=scaler.transform(test) \n",
    "    \n",
    "    return (train_scaled,test_scaled)"
   ]
  },
  {
   "cell_type": "code",
   "execution_count": 8,
   "metadata": {
    "collapsed": true
   },
   "outputs": [],
   "source": [
    "#scale the data for n=2,3,5\n",
    "(train_2_scaled,test_2_scaled)=normalize_data(train_2,test_2)\n",
    "(train_3_scaled,test_3_scaled)=normalize_data(train_3,test_3)\n",
    "(train_5_scaled,test_5_scaled)=normalize_data(train_5,test_5)"
   ]
  },
  {
   "cell_type": "markdown",
   "metadata": {},
   "source": [
    "#### Now lets evaluate close form solution and sgd form solution;\n",
    "#### we plot step-wise increment vs iteration to see if the sgd result converges\n",
    "\n",
    "##### (Notice by changing convergence_tolerance and learning rate we could get sgd_form solution approacing close_form solution)"
   ]
  },
  {
   "cell_type": "code",
   "execution_count": 20,
   "metadata": {},
   "outputs": [
    {
     "name": "stdout",
     "output_type": "stream",
     "text": [
      "iterations taken is: 100001 last step move is 3.205907215e-05\n"
     ]
    },
    {
     "data": {
      "image/png": "[encoded data removed]",
      "text/plain": [
       "<matplotlib.figure.Figure at 0x1ee6befb278>"
      ]
     },
     "metadata": {},
     "output_type": "display_data"
    },
    {
     "name": "stdout",
     "output_type": "stream",
     "text": [
      "close_form_solutin is: [-0.18923747  0.6147389   0.38819467]\n",
      "sgd_form_solutin is: [-0.18955464  0.61544931  0.38853524]\n"
     ]
    }
   ],
   "source": [
    "sample_size=20\n",
    "(close_2,sgd_2)=(get_close_form(train_2_scaled),get_sgd_form(train_2_scaled,sample_size,max_iter=100000,learning_rate=0.01,\n",
    "                                                            tolerance=0.0001))\n",
    "print(\"close_form_solutin is:\", close_2)\n",
    "print(\"sgd_form_solutin is:\",sgd_2)"
   ]
  },
  {
   "cell_type": "code",
   "execution_count": 21,
   "metadata": {},
   "outputs": [
    {
     "name": "stdout",
     "output_type": "stream",
     "text": [
      "iterations taken is: 100001 last step move is 0.000454264622142\n"
     ]
    },
    {
     "data": {
      "image/png": "[encoded data removed]",
      "text/plain": [
       "<matplotlib.figure.Figure at 0x1ee6842e710>"
      ]
     },
     "metadata": {},
     "output_type": "display_data"
    },
    {
     "name": "stdout",
     "output_type": "stream",
     "text": [
      "close_form_solutin is: [-0.7027276   0.02619476  0.37424813  0.94423958]\n",
      "sgd_form_solutin is: [-0.70105211  0.02671003  0.37445209  0.94378368]\n"
     ]
    }
   ],
   "source": [
    "sample_size=20\n",
    "(close_3,sgd_3)=(get_close_form(train_3_scaled),get_sgd_form(train_3_scaled,sample_size,100000,learning_rate=0.1,\n",
    "                                                            tolerance=0.0001))\n",
    "print(\"close_form_solutin is:\",close_3)\n",
    "print(\"sgd_form_solutin is:\",sgd_3)"
   ]
  },
  {
   "cell_type": "code",
   "execution_count": 41,
   "metadata": {},
   "outputs": [
    {
     "name": "stdout",
     "output_type": "stream",
     "text": [
      "iterations taken is: 55692 last step move is 1.21255537477e-06\n"
     ]
    },
    {
     "data": {
      "image/png": "[encoded data removed]",
      "text/plain": [
       "<matplotlib.figure.Figure at 0x1ee70abe4a8>"
      ]
     },
     "metadata": {},
     "output_type": "display_data"
    },
    {
     "name": "stdout",
     "output_type": "stream",
     "text": [
      "close_form_solutin is: [-0.6993178   0.02612493  0.40002064  0.94818039 -0.02935886 -0.0054981 ]\n",
      "sgd_form_solutin is: [-0.68563837  0.17311303  0.36267307  0.4625734   0.0099618   0.32471085]\n"
     ]
    }
   ],
   "source": [
    "sample_size=30\n",
    "(close_5,sgd_5)=(get_close_form(train_5_scaled),get_sgd_form(train_5_scaled,sample_size,100000,learning_rate=0.01,\n",
    "                                                            tolerance=0.001))\n",
    "print(\"close_form_solutin is:\",close_5)\n",
    "print(\"sgd_form_solutin is:\",sgd_5)"
   ]
  },
  {
   "cell_type": "code",
   "execution_count": null,
   "metadata": {
    "collapsed": true
   },
   "outputs": [],
   "source": []
  },
  {
   "cell_type": "markdown",
   "metadata": {
    "collapsed": true
   },
   "source": [
    "#### Next we evaluate MSE on traing and test data using both sgd and close form theta.\n",
    "\n",
    "#### Nothice both training and test data are sclaed between 1,2; for same n, the sale method is same so this wouldn't affect model selection by comparing mse.\n",
    "\n",
    "#### From the result we see close_form and sgd_form generate similar mse as we control the tolerance level low (0.0001 in this case); this is reasonable as we basically get sgd_form very near the close_form solution;\n",
    "\n",
    "#### Another finding is that generally test mse is greater than training mse: this is also reasonable because we didn't do any cross validation, and the model will more or less overfit the training data."
   ]
  },
  {
   "cell_type": "code",
   "execution_count": 42,
   "metadata": {
    "collapsed": true
   },
   "outputs": [],
   "source": [
    "# for n=2,3,5 compute mse on train data:\n",
    "#n=2\n",
    "train_mse2_close=evaluate_error(close_2,train_2_scaled)\n",
    "train_mse2_sgd=evaluate_error(sgd_2,train_2_scaled)\n",
    "#n=3\n",
    "train_mse3_close=evaluate_error(close_3,train_3_scaled)\n",
    "train_mse3_sgd=evaluate_error(sgd_3,train_3_scaled)\n",
    "#n=5\n",
    "train_mse5_close=evaluate_error(close_5,train_5_scaled)\n",
    "train_mse5_sgd=evaluate_error(sgd_5,train_5_scaled)"
   ]
  },
  {
   "cell_type": "code",
   "execution_count": 43,
   "metadata": {
    "collapsed": true
   },
   "outputs": [],
   "source": [
    "# for n=2,3,5 compute mse on test data:\n",
    "#n=2\n",
    "test_mse2_close=evaluate_error(close_2,test_2_scaled)\n",
    "test_mse2_sgd=evaluate_error(sgd_2,test_2_scaled)\n",
    "#n=3\n",
    "test_mse3_close=evaluate_error(close_3,test_3_scaled)\n",
    "test_mse3_sgd=evaluate_error(sgd_3,test_3_scaled)\n",
    "#n=5\n",
    "test_mse5_close=evaluate_error(close_5,test_5_scaled)\n",
    "test_mse5_sgd=evaluate_error(sgd_5,test_5_scaled)"
   ]
  },
  {
   "cell_type": "code",
   "execution_count": 44,
   "metadata": {},
   "outputs": [
    {
     "name": "stdout",
     "output_type": "stream",
     "text": [
      "for n=2, mse on training using close form solution is; 5.3823938274e-05\n",
      "for n=2, mse on training using sgd form solution is; 5.2432826423e-05\n",
      "for n=3, mse on training using close form solution is; 8.11989548952e-06\n",
      "for n=3, mse on training using sgd form solution is; 7.14426958741e-06\n",
      "for n=5, mse on training using close form solution is; 9.26283077098e-06\n",
      "for n=5, mse on training using sgd form solution is; 1.37237641288e-05\n"
     ]
    }
   ],
   "source": [
    "#print out mse on training data using both close form and sgd form solution\n",
    "# notice these are on normalized data for easy comparison\n",
    "print(\"for n=2, mse on training using close form solution is;\",train_mse2_close)\n",
    "print(\"for n=2, mse on training using sgd form solution is;\",train_mse2_sgd)\n",
    "print(\"for n=3, mse on training using close form solution is;\",train_mse3_close)\n",
    "print(\"for n=3, mse on training using sgd form solution is;\",train_mse3_sgd)\n",
    "print(\"for n=5, mse on training using close form solution is;\",train_mse5_close)\n",
    "print(\"for n=5, mse on training using sgd form solution is;\",train_mse5_sgd)"
   ]
  },
  {
   "cell_type": "code",
   "execution_count": 46,
   "metadata": {},
   "outputs": [
    {
     "name": "stdout",
     "output_type": "stream",
     "text": [
      "for n=2, mse on test data using close form solution is; 8.04821555399e-05\n",
      "for n=2, mse on test data using sgd form solution is; 8.31558989485e-05\n",
      "for n=3, mse on test data using close form solution is; 1.2928710716e-05\n",
      "for n=3, mse on test data using sgd form solution is; 1.45304565709e-05\n",
      "for n=5, mse on test data using close form solution is; 1.53428015806e-05\n",
      "for n=5, mse on test data using sgd form solution is; 1.05245656653e-05\n"
     ]
    }
   ],
   "source": [
    "#print out mse on training data using both close form and sgd form solution \n",
    "# notice these are on normalized data for easy comparison\n",
    "print(\"for n=2, mse on test data using close form solution is;\",test_mse2_close)\n",
    "print(\"for n=2, mse on test data using sgd form solution is;\",test_mse2_sgd)\n",
    "print(\"for n=3, mse on test data using close form solution is;\",test_mse3_close)\n",
    "print(\"for n=3, mse on test data using sgd form solution is;\",test_mse3_sgd)\n",
    "print(\"for n=5, mse on test data using close form solution is;\",test_mse5_close)\n",
    "print(\"for n=5, mse on test data using sgd form solution is;\",test_mse5_sgd)"
   ]
  },
  {
   "cell_type": "markdown",
   "metadata": {},
   "source": [
    "---------------------------------------\n",
    "\n",
    "\n",
    "#### Then we evaluate batch size's effect on running time and error;\n",
    "\n",
    "#### For simplicity we now set convergece_rate to a higher value so that we can easily visualize the effect"
   ]
  },
  {
   "cell_type": "code",
   "execution_count": 47,
   "metadata": {
    "collapsed": true
   },
   "outputs": [],
   "source": [
    "##redefine the function so that convergence plot is not shown;\n",
    "def get_sgd_form(data,m,max_iter,learning_rate,tolerance):\n",
    "    '''use stochastic gradiant descent, batch size m, set max_iteration, learning rate and tolerance respectively\n",
    "    '''\n",
    "    #for data size n*p\n",
    "    x=data[:,0:-1]\n",
    "    y=data[:,-1]\n",
    "    (a,b)=data.shape\n",
    "    #set initial theta to be 0 vector\n",
    "    init_sol=np.full(b-1,0)\n",
    "    sol=[init_sol]\n",
    "    k=0\n",
    "    dist=[0]\n",
    "    error=tolerance\n",
    "    while True:\n",
    "        ro=learning_rate/(0.0001*k+1)\n",
    "        sample_index=random.sample(range(a),m)\n",
    "        x_sub=x[sample_index,:]\n",
    "        y_sub=y[sample_index]\n",
    "        #dj/dtheta=2xt(xtheta-y) iter step\n",
    "        sol.append(sol[k]-2*ro*((x_sub.transpose()).dot(x_sub.dot(sol[k])-y_sub))/m)\n",
    "        k+=1\n",
    "        dist.append(np.linalg.norm((sol[k]-sol[k-1])))\n",
    "        #check convergence\n",
    "        if  np.linalg.norm(2*((x_sub.transpose()).dot(x_sub.dot(sol[k])-y_sub))/m) <error or k> max_iter:\n",
    "\n",
    "\n",
    "\n",
    "            print(\"iterations taken is:\",k,\"last step move is\", dist[k])\n",
    "            ##pylab.plot(range(len(sol)), dist)\n",
    "            ##pylab.show()\n",
    "            return sol[k]"
   ]
  },
  {
   "cell_type": "code",
   "execution_count": 48,
   "metadata": {},
   "outputs": [
    {
     "name": "stdout",
     "output_type": "stream",
     "text": [
      "iterations taken is: 11 last step move is 0.00198926293105\n",
      "iterations taken is: 32 last step move is 0.00390578058866\n",
      "iterations taken is: 10 last step move is 0.00193689820827\n",
      "iterations taken is: 10 last step move is 7.14999487284e-05\n",
      "iterations taken is: 12 last step move is 0.00776367361901\n",
      "iterations taken is: 6 last step move is 0.00520584908572\n",
      "iterations taken is: 43 last step move is 0.00437698679859\n",
      "iterations taken is: 7 last step move is 0.0051039504567\n",
      "iterations taken is: 53 last step move is 0.00185416693738\n",
      "iterations taken is: 24 last step move is 0.00434909451538\n",
      "iterations taken is: 19 last step move is 0.00560568236978\n",
      "iterations taken is: 31 last step move is 0.0118526989917\n",
      "iterations taken is: 51 last step move is 0.0118419922856\n",
      "iterations taken is: 8 last step move is 0.0118468058451\n",
      "iterations taken is: 31 last step move is 0.0170057337411\n",
      "iterations taken is: 17 last step move is 0.0086380535661\n",
      "iterations taken is: 9 last step move is 0.00193449115486\n",
      "iterations taken is: 26 last step move is 0.00957116516826\n",
      "iterations taken is: 46 last step move is 0.00329110376735\n",
      "iterations taken is: 43 last step move is 0.0150760252536\n",
      "iterations taken is: 33 last step move is 0.0107137700249\n",
      "iterations taken is: 18 last step move is 0.0167868277964\n",
      "iterations taken is: 23 last step move is 0.0101071810992\n",
      "iterations taken is: 49 last step move is 0.00373156216753\n",
      "iterations taken is: 44 last step move is 0.000873478623119\n",
      "iterations taken is: 27 last step move is 0.00831568867803\n",
      "iterations taken is: 65 last step move is 0.0163592083215\n",
      "iterations taken is: 100 last step move is 0.00328935494601\n",
      "iterations taken is: 18 last step move is 0.00417788953995\n",
      "iterations taken is: 15 last step move is 0.00261180324737\n",
      "iterations taken is: 69 last step move is 0.0121903236319\n",
      "iterations taken is: 20 last step move is 0.01283170006\n",
      "iterations taken is: 46 last step move is 0.00826720286441\n",
      "iterations taken is: 61 last step move is 0.0101810698176\n",
      "iterations taken is: 94 last step move is 0.0213928185433\n",
      "iterations taken is: 36 last step move is 0.00986069806233\n",
      "iterations taken is: 90 last step move is 0.007358675193\n",
      "iterations taken is: 70 last step move is 0.00214581207075\n",
      "iterations taken is: 63 last step move is 0.00799750979853\n",
      "iterations taken is: 58 last step move is 0.000720098985995\n",
      "iterations taken is: 62 last step move is 0.00124685782809\n",
      "iterations taken is: 92 last step move is 0.00157304510189\n",
      "iterations taken is: 69 last step move is 0.00571414172779\n",
      "iterations taken is: 83 last step move is 0.00083072531647\n",
      "iterations taken is: 83 last step move is 0.00768904284665\n",
      "iterations taken is: 66 last step move is 0.0030279604411\n",
      "iterations taken is: 112 last step move is 0.00793682352324\n",
      "iterations taken is: 45 last step move is 0.000867354324941\n",
      "iterations taken is: 96 last step move is 0.0172237203097\n",
      "iterations taken is: 72 last step move is 0.00680261067069\n",
      "iterations taken is: 96 last step move is 0.00597879087382\n",
      "iterations taken is: 58 last step move is 0.0132810842456\n",
      "iterations taken is: 126 last step move is 0.00813425667733\n",
      "iterations taken is: 68 last step move is 0.0013944323237\n",
      "iterations taken is: 56 last step move is 0.00366290198148\n",
      "iterations taken is: 61 last step move is 0.00465510103998\n",
      "iterations taken is: 28 last step move is 0.0101939833943\n",
      "iterations taken is: 99 last step move is 0.00457123094978\n",
      "iterations taken is: 95 last step move is 0.00425747438995\n",
      "iterations taken is: 96 last step move is 0.00225264310729\n",
      "iterations taken is: 102 last step move is 0.0111764027994\n",
      "iterations taken is: 86 last step move is 0.00331263799484\n",
      "iterations taken is: 101 last step move is 0.00877721962058\n",
      "iterations taken is: 94 last step move is 0.00791520289658\n",
      "iterations taken is: 94 last step move is 0.00855303145281\n",
      "iterations taken is: 104 last step move is 0.0122638828472\n",
      "iterations taken is: 117 last step move is 0.00265972492473\n",
      "iterations taken is: 120 last step move is 0.00451299949381\n",
      "iterations taken is: 159 last step move is 0.00427266098287\n",
      "iterations taken is: 110 last step move is 0.00729679722085\n",
      "iterations taken is: 124 last step move is 0.00727040675309\n",
      "iterations taken is: 94 last step move is 0.00964260826227\n",
      "iterations taken is: 61 last step move is 0.00303402787752\n",
      "iterations taken is: 93 last step move is 0.00129737831512\n",
      "iterations taken is: 119 last step move is 0.00857854545683\n",
      "iterations taken is: 105 last step move is 0.00137639389995\n",
      "iterations taken is: 47 last step move is 0.00297900067135\n",
      "iterations taken is: 133 last step move is 0.00898740819891\n",
      "iterations taken is: 140 last step move is 0.00505938648696\n",
      "iterations taken is: 128 last step move is 0.00804838290683\n",
      "iterations taken is: 133 last step move is 0.00206944861267\n",
      "iterations taken is: 87 last step move is 0.00254605475439\n",
      "iterations taken is: 158 last step move is 0.00784124014399\n",
      "iterations taken is: 99 last step move is 0.00848377577542\n",
      "iterations taken is: 130 last step move is 0.00112614284229\n",
      "iterations taken is: 100 last step move is 0.0041072011139\n",
      "iterations taken is: 95 last step move is 0.00760057018715\n",
      "iterations taken is: 131 last step move is 0.00405957491392\n",
      "iterations taken is: 126 last step move is 0.00178050761906\n",
      "iterations taken is: 121 last step move is 0.0108939998512\n",
      "iterations taken is: 122 last step move is 0.00357000195699\n",
      "iterations taken is: 111 last step move is 0.00120241880411\n",
      "iterations taken is: 170 last step move is 0.00237122117519\n",
      "iterations taken is: 145 last step move is 0.00484144919144\n",
      "iterations taken is: 116 last step move is 0.00653454467483\n",
      "iterations taken is: 114 last step move is 0.00741154489845\n",
      "iterations taken is: 141 last step move is 0.00372579224506\n",
      "iterations taken is: 132 last step move is 0.00497276298961\n",
      "iterations taken is: 159 last step move is 0.000807286763453\n",
      "iterations taken is: 132 last step move is 0.000906040054441\n",
      "iterations taken is: 155 last step move is 0.00191559953488\n",
      "iterations taken is: 171 last step move is 0.00188522982381\n",
      "iterations taken is: 162 last step move is 0.00185899416585\n",
      "iterations taken is: 141 last step move is 0.00598702016855\n",
      "iterations taken is: 187 last step move is 0.00108727867503\n",
      "iterations taken is: 174 last step move is 0.00291452718169\n",
      "iterations taken is: 168 last step move is 0.000827104935207\n",
      "iterations taken is: 156 last step move is 0.00432982692458\n",
      "iterations taken is: 150 last step move is 0.00486808781533\n",
      "iterations taken is: 155 last step move is 0.00301924667991\n",
      "iterations taken is: 197 last step move is 0.00245656368075\n",
      "iterations taken is: 176 last step move is 0.001194914425\n",
      "iterations taken is: 155 last step move is 0.00380684089037\n",
      "iterations taken is: 161 last step move is 0.00159005971139\n",
      "iterations taken is: 167 last step move is 0.00218598757746\n",
      "iterations taken is: 182 last step move is 0.00102851981952\n",
      "iterations taken is: 184 last step move is 0.00208342081616\n",
      "iterations taken is: 210 last step move is 0.00142379726513\n",
      "iterations taken is: 189 last step move is 0.00186873752681\n"
     ]
    }
   ],
   "source": [
    "##we plot time and error vs batch size; here batch size is a list [1,2,3,...120]\n",
    "sample_size=list(range(1,120))\n",
    "time_l=[]\n",
    "error_l=[]\n",
    "for x in sample_size:\n",
    "    start=datetime.datetime.now()\n",
    "    sgd=(get_sgd_form(train_2_scaled,x,50000,learning_rate=0.1,tolerance=0.008))\n",
    "    test_error=evaluate_error(sgd,test_2_scaled)\n",
    "    end=datetime.datetime.now()\n",
    "    time=(end-start).total_seconds()\n",
    "    time_l.append(time)\n",
    "    error_l.append(test_error)\n"
   ]
  },
  {
   "cell_type": "code",
   "execution_count": 49,
   "metadata": {},
   "outputs": [
    {
     "data": {
      "image/png": "[encoded data removed]",
      "text/plain": [
       "<matplotlib.figure.Figure at 0x1ee69a3a400>"
      ]
     },
     "metadata": {},
     "output_type": "display_data"
    }
   ],
   "source": [
    "pylab.plot(sample_size, time_l)\n",
    "pylab.show()"
   ]
  },
  {
   "cell_type": "code",
   "execution_count": 50,
   "metadata": {},
   "outputs": [
    {
     "data": {
      "image/png": "[encoded data removed]",
      "text/plain": [
       "<matplotlib.figure.Figure at 0x1ee70b8c710>"
      ]
     },
     "metadata": {},
     "output_type": "display_data"
    }
   ],
   "source": [
    "pylab.plot(sample_size, error_l)\n",
    "pylab.show()"
   ]
  },
  {
   "cell_type": "code",
   "execution_count": 60,
   "metadata": {},
   "outputs": [
    {
     "name": "stdout",
     "output_type": "stream",
     "text": [
      "iterations taken is: 17 last step move is 0.00167012021107\n",
      "iterations taken is: 99 last step move is 0.00212601834579\n",
      "iterations taken is: 135 last step move is 0.00169069620332\n",
      "iterations taken is: 30 last step move is 0.00271745033004\n",
      "iterations taken is: 129 last step move is 0.000586476944084\n",
      "iterations taken is: 47 last step move is 0.00261327583201\n",
      "iterations taken is: 51 last step move is 0.00136101055046\n",
      "iterations taken is: 84 last step move is 0.00152630115332\n",
      "iterations taken is: 25 last step move is 0.00162391388227\n",
      "iterations taken is: 269 last step move is 0.00118923366738\n",
      "iterations taken is: 251 last step move is 0.00170480587525\n",
      "iterations taken is: 149 last step move is 0.00128076834184\n",
      "iterations taken is: 133 last step move is 0.00105985968035\n",
      "iterations taken is: 53 last step move is 0.0013937123412\n",
      "iterations taken is: 200 last step move is 0.00160710234274\n",
      "iterations taken is: 23 last step move is 0.00145627772628\n",
      "iterations taken is: 54 last step move is 0.00188550703964\n",
      "iterations taken is: 132 last step move is 0.00101151956098\n",
      "iterations taken is: 223 last step move is 0.00159975709336\n",
      "iterations taken is: 206 last step move is 0.00161747177948\n",
      "iterations taken is: 212 last step move is 0.000658119236318\n",
      "iterations taken is: 132 last step move is 0.000438504006877\n",
      "iterations taken is: 186 last step move is 0.00168059105137\n",
      "iterations taken is: 100 last step move is 0.000758873832764\n",
      "iterations taken is: 73 last step move is 0.00185183073848\n",
      "iterations taken is: 131 last step move is 0.000550915709321\n",
      "iterations taken is: 72 last step move is 0.00184353337694\n",
      "iterations taken is: 273 last step move is 0.000822415109676\n",
      "iterations taken is: 112 last step move is 0.000967014984889\n",
      "iterations taken is: 210 last step move is 0.000723894339839\n",
      "iterations taken is: 168 last step move is 0.00169416283572\n",
      "iterations taken is: 192 last step move is 0.000808661213092\n",
      "iterations taken is: 95 last step move is 0.001192613827\n",
      "iterations taken is: 280 last step move is 0.00105190725091\n",
      "iterations taken is: 139 last step move is 0.00113425271302\n",
      "iterations taken is: 67 last step move is 0.00127482161363\n",
      "iterations taken is: 66 last step move is 0.00113714714604\n",
      "iterations taken is: 254 last step move is 0.00104879084486\n",
      "iterations taken is: 312 last step move is 0.000934829167149\n",
      "iterations taken is: 193 last step move is 0.000884606143127\n",
      "iterations taken is: 235 last step move is 0.00101936760785\n",
      "iterations taken is: 166 last step move is 0.0011192667006\n",
      "iterations taken is: 115 last step move is 0.00103938381945\n",
      "iterations taken is: 261 last step move is 0.00102936037543\n",
      "iterations taken is: 213 last step move is 0.000918885425499\n",
      "iterations taken is: 192 last step move is 0.000833720439188\n",
      "iterations taken is: 158 last step move is 0.000964431135159\n",
      "iterations taken is: 132 last step move is 0.000940837155436\n",
      "iterations taken is: 185 last step move is 0.000940475780341\n",
      "iterations taken is: 232 last step move is 0.000735415398503\n",
      "iterations taken is: 77 last step move is 0.00129634989614\n",
      "iterations taken is: 197 last step move is 0.0012647299143\n",
      "iterations taken is: 215 last step move is 0.00079444706124\n",
      "iterations taken is: 236 last step move is 0.00152209762152\n",
      "iterations taken is: 176 last step move is 0.000978721127875\n",
      "iterations taken is: 214 last step move is 0.00105629756857\n",
      "iterations taken is: 138 last step move is 0.00107944463698\n",
      "iterations taken is: 242 last step move is 0.000955698243476\n",
      "iterations taken is: 137 last step move is 0.00100106909323\n",
      "iterations taken is: 202 last step move is 0.00117976097954\n",
      "iterations taken is: 209 last step move is 0.00136217747644\n",
      "iterations taken is: 153 last step move is 0.00134854573598\n",
      "iterations taken is: 237 last step move is 0.00132364439098\n",
      "iterations taken is: 194 last step move is 0.00145149513004\n",
      "iterations taken is: 223 last step move is 0.00148290052481\n",
      "iterations taken is: 245 last step move is 0.000971416116508\n",
      "iterations taken is: 160 last step move is 0.000982907880476\n",
      "iterations taken is: 199 last step move is 0.000960132537433\n",
      "iterations taken is: 180 last step move is 0.00123751059249\n",
      "iterations taken is: 113 last step move is 0.00120915735591\n",
      "iterations taken is: 162 last step move is 0.000989802362782\n",
      "iterations taken is: 204 last step move is 0.00103665536538\n",
      "iterations taken is: 171 last step move is 0.000995211391738\n",
      "iterations taken is: 68 last step move is 0.000917049402691\n",
      "iterations taken is: 107 last step move is 0.000975151197625\n",
      "iterations taken is: 197 last step move is 0.00101994449639\n",
      "iterations taken is: 158 last step move is 0.000996950474258\n",
      "iterations taken is: 213 last step move is 0.000958556709522\n",
      "iterations taken is: 174 last step move is 0.000935674044486\n",
      "iterations taken is: 188 last step move is 0.000733871405922\n",
      "iterations taken is: 217 last step move is 0.000992480408912\n",
      "iterations taken is: 208 last step move is 0.00154646373361\n",
      "iterations taken is: 170 last step move is 0.000988193704985\n",
      "iterations taken is: 185 last step move is 0.000886310425339\n",
      "iterations taken is: 181 last step move is 0.000984054062436\n",
      "iterations taken is: 176 last step move is 0.00125405394345\n",
      "iterations taken is: 73 last step move is 0.000971468649154\n",
      "iterations taken is: 143 last step move is 0.00117894379021\n",
      "iterations taken is: 179 last step move is 0.000949414779455\n",
      "iterations taken is: 208 last step move is 0.000961512403389\n",
      "iterations taken is: 203 last step move is 0.000917790913006\n",
      "iterations taken is: 225 last step move is 0.00120151741007\n",
      "iterations taken is: 218 last step move is 0.000900525861874\n",
      "iterations taken is: 244 last step move is 0.00113901938389\n",
      "iterations taken is: 216 last step move is 0.000963492665786\n",
      "iterations taken is: 195 last step move is 0.00111263564504\n",
      "iterations taken is: 179 last step move is 0.000983536741474\n",
      "iterations taken is: 151 last step move is 0.00124629420176\n",
      "iterations taken is: 244 last step move is 0.00107582728295\n",
      "iterations taken is: 214 last step move is 0.00112765180685\n",
      "iterations taken is: 220 last step move is 0.000793296376279\n",
      "iterations taken is: 206 last step move is 0.00094481102158\n",
      "iterations taken is: 231 last step move is 0.000873102667491\n",
      "iterations taken is: 228 last step move is 0.00101736025958\n",
      "iterations taken is: 209 last step move is 0.000905146339459\n",
      "iterations taken is: 212 last step move is 0.00128850734295\n",
      "iterations taken is: 246 last step move is 0.000832861020227\n",
      "iterations taken is: 236 last step move is 0.00100435698984\n",
      "iterations taken is: 216 last step move is 0.000977497871164\n",
      "iterations taken is: 242 last step move is 0.000974218545572\n",
      "iterations taken is: 210 last step move is 0.00104208273279\n",
      "iterations taken is: 239 last step move is 0.000937111505308\n",
      "iterations taken is: 238 last step move is 0.000978435972593\n",
      "iterations taken is: 220 last step move is 0.000996936264822\n",
      "iterations taken is: 212 last step move is 0.000987852011256\n",
      "iterations taken is: 229 last step move is 0.00119017428557\n",
      "iterations taken is: 216 last step move is 0.00112110662796\n",
      "iterations taken is: 203 last step move is 0.0009464914111\n",
      "iterations taken is: 225 last step move is 0.00101823390153\n"
     ]
    }
   ],
   "source": [
    "\n",
    "# lets try one more case, when n=5\n",
    "sample_size=list(range(1,120))\n",
    "time_l=[]\n",
    "error_l=[]\n",
    "for x in sample_size:\n",
    "    start=datetime.datetime.now()\n",
    "    sgd=(get_sgd_form(train_3_scaled,x,50000,learning_rate=0.1,tolerance=0.01))\n",
    "    test_error=evaluate_error(sgd,test_3_scaled)\n",
    "    end=datetime.datetime.now()\n",
    "    time=(end-start).total_seconds()\n",
    "    time_l.append(time)\n",
    "    error_l.append(test_error)"
   ]
  },
  {
   "cell_type": "code",
   "execution_count": 61,
   "metadata": {},
   "outputs": [
    {
     "data": {
      "image/png": "[encoded data removed]",
      "text/plain": [
       "<matplotlib.figure.Figure at 0x1ee6be0efd0>"
      ]
     },
     "metadata": {},
     "output_type": "display_data"
    }
   ],
   "source": [
    "pylab.plot(sample_size, time_l)\n",
    "pylab.show()"
   ]
  },
  {
   "cell_type": "code",
   "execution_count": 62,
   "metadata": {},
   "outputs": [
    {
     "data": {
      "image/png": "[encoded data removed]",
      "text/plain": [
       "<matplotlib.figure.Figure at 0x1ee67e15278>"
      ]
     },
     "metadata": {},
     "output_type": "display_data"
    }
   ],
   "source": [
    "pylab.plot(sample_size, error_l)\n",
    "pylab.show()"
   ]
  },
  {
   "cell_type": "markdown",
   "metadata": {},
   "source": [
    "### Regarding Time,\n",
    "\n",
    "#### we see smaller batch size gives higher speed. This might comes from that a smaller batch require smaller memory space each step and thus inprove efficiency. ; also larger batch gives lower variance in each step's move, thus has less ability to \"jump\" local minimum and arrive convergent point, such \"bumping\" around minimum could also increase iteration time."
   ]
  },
  {
   "cell_type": "markdown",
   "metadata": {
    "collapsed": true
   },
   "source": [
    "### Regarding Error, \n",
    "\n",
    "#### Again, smaller batch size lead to higher variance in each step's move(since fewer points used in approaching);\n",
    "#### This offers a changce for the cost function to \"jump through\" some local minimum and approches longterm convergence. \n",
    "\n",
    "#### However, this variance shouldn't be too large( in the case of small batch size, left end of the graph), because such small size could lead to high overfitting since there is a chance that not all data points are used.\n",
    "\n",
    "#### On ther other hand, when batch size is too large say above 60, the problem is again cost function cannot jump through local minimum , or simply bumping around minimum but couldn't approch, which also lead to higher error.\n",
    "\n",
    "#### Thus we might want to use small to medium batch size by some cross validation in practice. (tuning hyper parameter by test mse)\n"
   ]
  },
  {
   "cell_type": "code",
   "execution_count": null,
   "metadata": {
    "collapsed": true
   },
   "outputs": [],
   "source": []
  },
  {
   "cell_type": "code",
   "execution_count": 65,
   "metadata": {
    "collapsed": true
   },
   "outputs": [],
   "source": [
    "### Part3   Ridge Regression\n",
    "# theta_ridge=inv((X′X+λI)) * X′Y\n",
    "def get_close_form_ridge(data,lamda):\n",
    "    ''' theta_ridge=inv((X′X+λI)) * X′Y\n",
    "    '''\n",
    "    (a,b)=data.shape\n",
    "    x=data[:,0:-1]\n",
    "    y=data[:,-1]\n",
    "    xt=x.transpose()\n",
    "    I=np.identity(b-1)\n",
    "    sol=inv(xt.dot(x)+lamda*I).dot(xt.dot(y))\n",
    "    return sol\n",
    "                                   \n",
    "                                   \n",
    "                                   \n",
    "def get_sgd_form_ridge(data,m,max_iter,learning_rate,lamda,tolerance):\n",
    "    '''\n",
    "    use stochastic gradiant descent, batch size m, and other parameters;\n",
    "    in ridge regression, the only difference is the dereivative part: XtY=(XtX+λI)theta --> theta = XtY/(XtX+λI)\n",
    "    \n",
    "    '''\n",
    "    #for data size n*p\n",
    "    x=data[:,0:-1]\n",
    "    y=data[:,-1]\n",
    "    (a,b)=data.shape\n",
    "    init_sol=np.full(b-1,0)\n",
    "    sol=[init_sol]\n",
    "    k=0\n",
    "    dist=[0]\n",
    "    error=tolerance\n",
    "    I=np.identity(b-1)                                                                                            \n",
    "    while True:\n",
    "        ro=learning_rate/(0.0001*k+1)\n",
    "        sample_index=random.sample(range(a),m)\n",
    "        x_sub=x[sample_index,:]\n",
    "        y_sub=y[sample_index]\n",
    "        #dj/dtheta=2xt(xtheta-y) iter step\n",
    "        sol.append(sol[k]-2/m*ro*((x_sub.transpose().dot(x_sub)+lamda*I).dot(sol[k])-x_sub.transpose().dot(y_sub)))\n",
    "        k+=1\n",
    "        dist.append(np.linalg.norm((sol[k]-sol[k-1])))\n",
    "        #check convergence\n",
    "        if  np.linalg.norm(2/m*((x_sub.transpose().dot(x_sub)+lamda*I).dot(sol[k])-x_sub.transpose().dot(y_sub))) <error or k> max_iter:\n",
    "            #print(\"iterations taken is:\",k,\"last step move is\", dist[k])\n",
    "            #pylab.plot(range(len(sol)), dist)\n",
    "            #pylab.show()\n",
    "            return sol[k]\n",
    "        #else:\n",
    "           # print(k,dist[k])"
   ]
  },
  {
   "cell_type": "markdown",
   "metadata": {},
   "source": [
    "#### Next we import dataset 2 , and normalize the data"
   ]
  },
  {
   "cell_type": "code",
   "execution_count": 66,
   "metadata": {
    "collapsed": true
   },
   "outputs": [],
   "source": [
    "# create data input for n=2,3,5 \n",
    "# using dataset2\n",
    "mat_2 = sio.loadmat('dataset2.mat', squeeze_me=True)\n",
    "X_trn_d2=mat_2[\"X_trn\"]\n",
    "X_tst_d2=mat_2[\"X_tst\"]\n",
    "Y_trn_d2=mat_2[\"Y_trn\"]\n",
    "Y_tst_d2=mat_2[\"Y_tst\"]\n",
    "train_2_d2=form_data(X_trn_d2,Y_trn_d2,2)\n",
    "train_3_d2=form_data(X_trn_d2,Y_trn_d2,3)\n",
    "train_5_d2=form_data(X_trn_d2,Y_trn_d2,5)\n",
    "test_2_d2=form_data(X_tst_d2,Y_tst_d2,2)\n",
    "test_3_d2=form_data(X_tst_d2,Y_tst_d2,3)\n",
    "test_5_d2=form_data(X_tst_d2,Y_tst_d2,5)\n",
    "(train_2_scaled_d2,test_2_scaled_d2)=normalize_data(train_2_d2,test_2_d2)\n",
    "(train_3_scaled_d2,test_3_scaled_d2)=normalize_data(train_3_d2,test_3_d2)\n",
    "(train_5_scaled_d2,test_5_scaled_d2)=normalize_data(train_5_d2,test_5_d2)"
   ]
  },
  {
   "cell_type": "markdown",
   "metadata": {},
   "source": [
    "#### Let's first check if our ridge regression is correct:\n",
    "\n",
    "#### From the lecture we learn that when lamda=0 result should be same as OLS regression;when lamda --> infinity, result should approach 0\n",
    "\n",
    "#### We see the result meet these intuitions"
   ]
  },
  {
   "cell_type": "code",
   "execution_count": 67,
   "metadata": {},
   "outputs": [
    {
     "name": "stdout",
     "output_type": "stream",
     "text": [
      "[ 0.75305942  0.57710701 -0.06444699]\n",
      "[ 0.75305942  0.57710701 -0.06444699]\n"
     ]
    }
   ],
   "source": [
    "print(get_close_form_ridge(train_2_scaled_d2,0))\n",
    "print(get_close_form(train_2_scaled_d2))"
   ]
  },
  {
   "cell_type": "code",
   "execution_count": 68,
   "metadata": {},
   "outputs": [
    {
     "name": "stdout",
     "output_type": "stream",
     "text": [
      "[  1.53166393e-05   2.35016716e-05   1.98153402e-05]\n",
      "[ 0.75305942  0.57710701 -0.06444699]\n"
     ]
    }
   ],
   "source": [
    "print(get_close_form_ridge(train_2_scaled_d2,10000000))\n",
    "print(get_close_form(train_2_scaled_d2))"
   ]
  },
  {
   "cell_type": "code",
   "execution_count": 69,
   "metadata": {},
   "outputs": [
    {
     "name": "stdout",
     "output_type": "stream",
     "text": [
      "[ 0.51119629  0.65711602  0.02695001]\n",
      "iterations taken is: 4300 last step move is 3.49676476764e-05\n",
      "[ 0.51119629  0.65711602  0.02695001]\n"
     ]
    }
   ],
   "source": [
    "print(get_sgd_form_ridge(train_2_scaled_d2,m=100,max_iter=50000,learning_rate=0.01,lamda=0,tolerance=0.005))\n",
    "print(get_sgd_form(train_2_scaled_d2,m=100,max_iter=50000,learning_rate=0.01,tolerance=0.005))"
   ]
  },
  {
   "cell_type": "code",
   "execution_count": 70,
   "metadata": {},
   "outputs": [
    {
     "name": "stdout",
     "output_type": "stream",
     "text": [
      "[ 0.01365905  0.02098822  0.01764633  0.02282621  0.01570808  0.02425438]\n",
      "iterations taken is: 1506 last step move is 4.34601725899e-05\n",
      "[ 0.06512885  0.26529776  0.08274204  0.29223377 -0.00998131  0.28390031]\n"
     ]
    }
   ],
   "source": [
    "print(get_sgd_form_ridge(train_5_scaled_d2,m=100,max_iter=20000,learning_rate=0.01,lamda=10000,tolerance=0.005))\n",
    "print(get_sgd_form(train_5_scaled_d2,m=100,max_iter=20000,learning_rate=0.01,tolerance=0.005))"
   ]
  },
  {
   "cell_type": "markdown",
   "metadata": {},
   "source": [
    "#### Next lets def a function to do cross validataion:\n",
    "\n",
    "#### the idea is for each model_i, we split training data to k folder; \n",
    "#### each step we leave 1 folder as validation set, fit model on other k-1 folders and evaluate mse on the left 1 folder; \n",
    "#### after runing this k times, we get avg mse as the model_i's final mse; \n",
    "#### then we can select lowest final mse (and the model that achieves this best mse should be the output, i.e. lamda in our case)\n"
   ]
  },
  {
   "cell_type": "code",
   "execution_count": 71,
   "metadata": {
    "collapsed": true
   },
   "outputs": [],
   "source": [
    "### write a function to do cross validation: \n",
    "#the idea is for each model_i, we split training data to k folder, each step we leave 1 folder as validation set, fit model on other k-1 folders \n",
    "# and evaluate mse on the left 1 folder\n",
    "# after runing this k times, we get avg mse as the model_i's final mse\n",
    "# select lowest final mse and the model that achieves this mse should be the output, i.e. lamda in our case\n",
    "\n",
    "def cv_lamda_close(data,k,lamda,m):   \n",
    "    '''\n",
    "    data is whole training data; k folder cv; lamda is a list of potential lmada\n",
    "    '''\n",
    "    result=[]\n",
    "    theta_l=[]\n",
    "    minm=1\n",
    "    for l in lamda:        \n",
    "        lamda_k=l\n",
    "        x=data[:,0:-1]\n",
    "        y=data[:,-1]\n",
    "        kf = KFold(n_splits=k)\n",
    "        #result=[0]*k #init a list for all k result\n",
    "        train_index=[]\n",
    "        test_index=[]   \n",
    "        mse=[]\n",
    "        for (tra,tst) in kf.split(x):\n",
    "            train_index.append(tra)\n",
    "            test_index.append(tst)\n",
    "        for i in range(k): # each split we evaluate mse; avg mse to get best lmbda\n",
    "            train=data[train_index[i]]\n",
    "            test=data[test_index[i]]\n",
    "            theta=get_close_form_ridge(train,lamda_k)\n",
    "            theta_l.append(theta)\n",
    "            mse_test=evaluate_error(theta,test)\n",
    "            mse.append(mse_test)\n",
    "        avg_mse=sum(mse)/len(mse)\n",
    "        result.append(avg_mse)\n",
    "    #now find index of min avg_mse in the result list\n",
    "    for i in range(len(result)):\n",
    "        if result[i] < minm:\n",
    "            minm = result[i]\n",
    "            minIndex = i\n",
    "    opt_lamda=lamda[minIndex]\n",
    "    # now use optimal lamda to get optimal theta using the whole training set\n",
    "    opt_theta=get_close_form_ridge(data,opt_lamda,)\n",
    "    return opt_lamda,opt_theta\n",
    "\n",
    "\n",
    "\n",
    "def cv_lamda_sgd(data,k,lamda,m,max_iter,learning_rate, tolerance):   \n",
    "    '''\n",
    "    data is whole training data; k folder cv; lamda is a list of potential lmada\n",
    "    '''\n",
    "    result=[]\n",
    "    #theta_l=[]\n",
    "    minm=10\n",
    "    for l in lamda:        \n",
    "        lamda_k=l\n",
    "        x=data[:,0:-1]\n",
    "        y=data[:,-1]\n",
    "        kf = KFold(n_splits=k)\n",
    "        #result=[0]*k #init a list for all k result\n",
    "        train_index=[]\n",
    "        test_index=[]   \n",
    "        mse=[]\n",
    "        for (tra,tst) in kf.split(x):\n",
    "            train_index.append(tra)\n",
    "            test_index.append(tst)\n",
    "        for i in range(k): # each split we evaluate mse; avg mse to get best lmbda\n",
    "            train=data[train_index[i]]\n",
    "            test=data[test_index[i]]\n",
    "            theta=get_sgd_form_ridge(train,m,max_iter,learning_rate,lamda_k,tolerance)\n",
    "            #theta_l.append(theta)\n",
    "            mse_test=evaluate_error(theta,test)\n",
    "            mse.append(mse_test)     \n",
    "        avg_mse=sum(mse)/len(mse)\n",
    "        result.append(avg_mse)\n",
    "    #now find index of min avg_mse in the result list\n",
    "    for i in range(len(result)):\n",
    "        if result[i] < minm:\n",
    "            minm = result[i]\n",
    "            minIndex = i\n",
    "    opt_lamda=lamda[minIndex]\n",
    "    # now use optimal lamda to get optimal theta using the whole training set\n",
    "    opt_theta=get_sgd_form_ridge(data,m,max_iter,learning_rate,opt_lamda,tolerance)\n",
    "    return opt_lamda,opt_theta\n",
    "        \n"
   ]
  },
  {
   "cell_type": "code",
   "execution_count": 72,
   "metadata": {
    "collapsed": true
   },
   "outputs": [],
   "source": [
    "def get_optimal_lamda_theta_testmse_close(train_data,k,lamda,m,test_data):\n",
    "    (opt_lamda,opt_theta)=cv_lamda_close(train_data,k,lamda,m)\n",
    "    #print(opt_lamda,opt_theta)\n",
    "    #evaluate mse on test\n",
    "    training_mse=evaluate_error(opt_theta,train_data)\n",
    "    test_mse=evaluate_error(opt_theta,test_data)\n",
    "    #print(\"optimal lamda is\", opt_lamda)\n",
    "    #print(\"optimal theta is\", opt_theta)\n",
    "    #print(\"training mse is\", training_mse)\n",
    "    #print(\"test mse is\", test_mse)\n",
    "    return opt_lamda,opt_theta,training_mse,test_mse\n",
    "\n",
    "def get_optimal_lamda_theta_testmse_sgd(train_data,k,lamda,m,max_iter,learning_rate,tolerance,test_data):\n",
    "    (opt_lamda,opt_theta)=cv_lamda_sgd(train_data,k,lamda,m,max_iter,learning_rate,tolerance)\n",
    "    #print(opt_lamda,opt_theta)\n",
    "    #evaluate mse on test\n",
    "    training_mse=evaluate_error(opt_theta,train_data)\n",
    "    test_mse=evaluate_error(opt_theta,test_data)\n",
    "    #print(\"optimal lamda is\", opt_lamda)\n",
    "    #print(\"optimal theta is\", opt_theta)\n",
    "    #print(\"training mse is\", training_mse)\n",
    "    #print(\"test mse is\", test_mse)\n",
    "    return opt_lamda,opt_theta,training_mse,test_mse"
   ]
  },
  {
   "cell_type": "markdown",
   "metadata": {},
   "source": [
    "#### Lets run the cross validataion to determin optimal lamda and theta;\n",
    "\n",
    "#### here we choose lamda from a given list\n"
   ]
  },
  {
   "cell_type": "code",
   "execution_count": 85,
   "metadata": {},
   "outputs": [
    {
     "name": "stdout",
     "output_type": "stream",
     "text": [
      "--------- 2 folder result-------- :\n",
      "for n=2, K= 2\n",
      "(1, array([ 0.32707176,  0.63629835,  0.18148645]), 0.00017398050576484202, 0.0048482367277862589)\n",
      "for n=3, K= 2\n",
      "(1, array([ 0.17259878,  0.33797473,  0.11397537,  0.42998514]), 3.4216547838715818e-05, 0.0045503157725779357)\n",
      "for n=5, K= 2\n",
      "(10, array([ 0.11144357,  0.21525928,  0.11380691,  0.22990142,  0.09097874,\n",
      "        0.23896413]), 5.1487684311893409e-05, 0.011464272241418419)\n",
      "--------- 10 folder result-------- :\n",
      "for n=2, K= 10\n",
      "(1, array([ 0.31790299,  0.60735221,  0.24144444]), 0.00010218817031895628, 0.0036969703285432711)\n",
      "for n=3, K= 10\n",
      "(0.1, array([ 0.15113786,  0.29829611,  0.08902603,  0.50060443]), 2.345902671849246e-05, 0.0044421186067207788)\n",
      "for n=5, K= 10\n",
      "(0.1, array([ 0.09780139,  0.25727643,  0.06789743,  0.272838  ,  0.02942961,\n",
      "        0.27503344]), 5.365510104827164e-06, 0.006261311355829878)\n",
      "--------- 100 folder result-------- :\n",
      "for n=2, K= 100\n",
      "(0.1, array([ 0.35346573,  0.68613827,  0.11052426]), 0.00017692108248667189, 0.0040390520836404448)\n",
      "for n=3, K= 100\n",
      "(0.1, array([ 0.14024494,  0.27255251,  0.08451327,  0.53456169]), 1.8541659959926071e-05, 0.0045046770897322662)\n",
      "for n=5, K= 100\n",
      "(0.1, array([ 0.06485018,  0.2634049 ,  0.08223148,  0.29130561, -0.00889345,\n",
      "        0.2827932 ]), 7.6104888567021544e-06, 0.0060092301920043082)\n"
     ]
    }
   ],
   "source": [
    "##here i set a higher tolerance for computing speed, this might not generate optimal theta due to precision,\n",
    "##but could illustrate optimal lamda; \n",
    "#we will evaluate optimal theta using close form next since ti will be faster for given data which doesn't contain high dimension\n",
    "\n",
    "m=25\n",
    "max_iter=1000\n",
    "lamda=[0.1,1,10,100]\n",
    "tolerance=0.005\n",
    "for k in [2,10,100]:\n",
    "    print(\"---------\",k,\"folder result-------- :\")\n",
    "    print(\"for n=2, K=\",k)\n",
    "    print(get_optimal_lamda_theta_testmse_sgd(train_2_scaled_d2,k,lamda,m,max_iter,0.1,tolerance,test_2_scaled_d2))\n",
    "    print(\"for n=3, K=\",k)\n",
    "    print(get_optimal_lamda_theta_testmse_sgd(train_3_scaled_d2,k,lamda,m,max_iter,0.1,tolerance,test_3_scaled_d2))\n",
    "    print(\"for n=5, K=\",k)\n",
    "    print(get_optimal_lamda_theta_testmse_sgd(train_5_scaled_d2,k,lamda,m,max_iter,0.05,tolerance,test_5_scaled_d2))\n",
    "    "
   ]
  },
  {
   "cell_type": "markdown",
   "metadata": {},
   "source": [
    "#### we find increasing folder k does not dramatically decrease test error; \n",
    "#### for moderate size data, a K size of 3,5,10 would be sufficient,\n",
    "#### a leave-one-out cross validation could get better mse but not much, and takes a lot more time"
   ]
  },
  {
   "cell_type": "code",
   "execution_count": 86,
   "metadata": {},
   "outputs": [
    {
     "name": "stdout",
     "output_type": "stream",
     "text": [
      "-------- 2 folder result-------- :\n",
      "for n=2, K= 2\n",
      "(3, array([ 0.39723693,  0.64157951,  0.12411292]), 0.00016513727729370963, 0.0052179451375282742)\n",
      "for n=3, K= 2\n",
      "(0, array([-0.61222534, -0.03669192,  0.27725081,  1.12052162]), 1.1920807900632257e-07, 0.0010441417214567424)\n",
      "for n=5, K= 2\n",
      "(0, array([-0.82494675,  0.00450989,  0.22351561,  0.91044757,  0.11647608,\n",
      "        0.24551411]), 2.666938794424126e-08, 0.00086587638132447126)\n",
      "-------- 10 folder result-------- :\n",
      "for n=2, K= 10\n",
      "(0, array([ 0.75305942,  0.57710701, -0.06444699]), 9.2531570786793317e-05, 0.0089188623021145639)\n",
      "for n=3, K= 10\n",
      "(0, array([-0.61222534, -0.03669192,  0.27725081,  1.12052162]), 1.1920807900632257e-07, 0.0010441417214567424)\n",
      "for n=5, K= 10\n",
      "(0, array([-0.82494675,  0.00450989,  0.22351561,  0.91044757,  0.11647608,\n",
      "        0.24551411]), 2.666938794424126e-08, 0.00086587638132447126)\n",
      "-------- 100 folder result-------- :\n",
      "for n=2, K= 100\n",
      "(0, array([ 0.75305942,  0.57710701, -0.06444699]), 9.2531570786793317e-05, 0.0089188623021145639)\n",
      "for n=3, K= 100\n",
      "(0, array([-0.61222534, -0.03669192,  0.27725081,  1.12052162]), 1.1920807900632257e-07, 0.0010441417214567424)\n",
      "for n=5, K= 100\n",
      "(0, array([-0.82494675,  0.00450989,  0.22351561,  0.91044757,  0.11647608,\n",
      "        0.24551411]), 2.666938794424126e-08, 0.00086587638132447126)\n"
     ]
    }
   ],
   "source": [
    "\n",
    "lamda=list(range(0,100))\n",
    "for k in [2,10,100]:\n",
    "    print(\"--------\",k,\"folder result-------- :\")\n",
    "    print(\"for n=2, K=\",k)\n",
    "    print(get_optimal_lamda_theta_testmse_close(train_2_scaled_d2,k,lamda,m,test_2_scaled_d2))\n",
    "    print(\"for n=3, K=\",k)\n",
    "    print(get_optimal_lamda_theta_testmse_close(train_3_scaled_d2,k,lamda,m,test_3_scaled_d2))\n",
    "    print(\"for n=5, K=\",k)\n",
    "    print(get_optimal_lamda_theta_testmse_close(train_5_scaled_d2,k,lamda,m,test_5_scaled_d2))\n",
    "####"
   ]
  },
  {
   "cell_type": "markdown",
   "metadata": {},
   "source": [
    "### The result above is optimal theta, training mse and test mse (optimal lamda is 0)"
   ]
  },
  {
   "cell_type": "code",
   "execution_count": 98,
   "metadata": {},
   "outputs": [
    {
     "data": {
      "image/png": "[encoded data removed]",
      "text/plain": [
       "<matplotlib.figure.Figure at 0x1ee69614da0>"
      ]
     },
     "metadata": {},
     "output_type": "display_data"
    }
   ],
   "source": [
    "# plot lamda vs test error\n",
    "time_l=[]\n",
    "error_l=[]\n",
    "for lamda in list(range(100)):\n",
    "    start=datetime.datetime.now()\n",
    "    (a,b,c,d)=get_optimal_lamda_theta_testmse_close(train_5_scaled_d2,k,[lamda],25,test_5_scaled_d2)\n",
    "    test_error=evaluate_error(sgd,test_3_scaled)\n",
    "    end=datetime.datetime.now()\n",
    "    time=(end-start).total_seconds()\n",
    "    time_l.append(time)\n",
    "    error_l.append(d)\n",
    "pylab.plot(list(range(100)), error_l)\n",
    "pylab.show()"
   ]
  },
  {
   "cell_type": "code",
   "execution_count": 109,
   "metadata": {},
   "outputs": [
    {
     "data": {
      "image/png": "[encoded data removed]",
      "text/plain": [
       "<matplotlib.figure.Figure at 0x1ee6c786898>"
      ]
     },
     "metadata": {},
     "output_type": "display_data"
    },
    {
     "data": {
      "text/plain": [
       "[0.0089188623021145639, 0.0010441417214567424, 0.00086587638132447126]"
      ]
     },
     "execution_count": 109,
     "metadata": {},
     "output_type": "execute_result"
    }
   ],
   "source": [
    "# plot n vs test error\n",
    "n=[2,3,5]\n",
    "error_l=[]\n",
    "(a,b,c,d_2)=get_optimal_lamda_theta_testmse_close(train_2_scaled_d2,10,[0],25,test_2_scaled_d2)\n",
    "(a,b,c,d_3)=get_optimal_lamda_theta_testmse_close(train_3_scaled_d2,10,[0],25,test_3_scaled_d2)\n",
    "(a,b,c,d_5)=get_optimal_lamda_theta_testmse_close(train_5_scaled_d2,10,[0],25,test_5_scaled_d2)\n",
    "error_l=[d_2,d_3,d_5]\n",
    "pylab.plot(n, error_l)\n",
    "pylab.show()\n",
    "error_l"
   ]
  },
  {
   "cell_type": "markdown",
   "metadata": {},
   "source": [
    "\n",
    "#### After tried several lamda, we see the cross validation tend to select small lamda (approches 0 as optimal), i.e. OLS solution.\n",
    "\n",
    "\n",
    "#### For test error, it decrese as lamda decrease and it decrease as n increase.  \n",
    "##### This is because, intuitively, more expanatory variables (as n=2,3,5) will expain more variance for error, and for our data, it's not really high dimensional, and ridge regression's regulating term is not really helpful here.\n",
    "\n",
    "\n",
    "#### again we noticed that traning error is always smaller than test error, a example of overfiting\n",
    "\n",
    "\n",
    "### Next lets check if we got correct optimal lamda by SKlearn's Cross-validation package"
   ]
  },
  {
   "cell_type": "code",
   "execution_count": 110,
   "metadata": {
    "collapsed": true
   },
   "outputs": [],
   "source": [
    "from sklearn import linear_model"
   ]
  },
  {
   "cell_type": "code",
   "execution_count": 111,
   "metadata": {},
   "outputs": [
    {
     "name": "stdout",
     "output_type": "stream",
     "text": [
      "0.001\n",
      "0.001\n",
      "0.001\n"
     ]
    }
   ],
   "source": [
    "#Check result from sklearn's cross-validation package:\n",
    "reg = linear_model.RidgeCV([0.001,0.1,1.0,2.0,3.0,10.0,100.0,1000000.0])\n",
    "reg.fit(train_2_scaled_d2[:,0:-1], train_2_scaled_d2[:,-1])       \n",
    "print(reg.alpha_) \n",
    "reg = linear_model.RidgeCV([0.001,0.1,1.0,2.0,3.0,10.0,100.0,1000000.0])\n",
    "reg.fit(train_3_scaled_d2[:,0:-1], train_3_scaled_d2[:,-1])       \n",
    "print(reg.alpha_) \n",
    "reg = linear_model.RidgeCV([0.001,0.1,1.0,2.0,3.0,10.0,100.0,1000000.0])\n",
    "reg.fit(train_5_scaled_d2[:,0:-1], train_5_scaled_d2[:,-1])       \n",
    "print(reg.alpha_)"
   ]
  },
  {
   "cell_type": "markdown",
   "metadata": {},
   "source": [
    "#### we see optimal lamda indeed approaches 0, same result as from our function"
   ]
  },
  {
   "cell_type": "code",
   "execution_count": null,
   "metadata": {
    "collapsed": true
   },
   "outputs": [],
   "source": []
  }
 ],
 "metadata": {
  "kernelspec": {
   "display_name": "Python 3",
   "language": "python",
   "name": "python3"
  },
  "language_info": {
   "codemirror_mode": {
    "name": "ipython",
    "version": 3
   },
   "file_extension": ".py",
   "mimetype": "text/x-python",
   "name": "python",
   "nbconvert_exporter": "python",
   "pygments_lexer": "ipython3",
   "version": "3.6.3"
  }
 },
 "nbformat": 4,
 "nbformat_minor": 2
}
